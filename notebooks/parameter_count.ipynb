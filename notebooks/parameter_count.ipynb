{
 "cells": [
  {
   "cell_type": "code",
   "execution_count": 1,
   "metadata": {},
   "outputs": [],
   "source": [
    "import math"
   ]
  },
  {
   "cell_type": "code",
   "execution_count": 2,
   "metadata": {},
   "outputs": [
    {
     "name": "stdout",
     "output_type": "stream",
     "text": [
      "16.070144\n"
     ]
    }
   ],
   "source": [
    "n_layer=4\n",
    "n_embd=256\n",
    "n_head=4\n",
    "vocab=50304\n",
    "block=128\n",
    "# param counts: token_embed\n",
    "params = vocab * n_embd\n",
    "# pos embedding\n",
    "params += block * n_embd\n",
    "# layer params\n",
    "for l in range(n_layer):\n",
    "    # attention qkv weight: n_embd * 3n_embd\n",
    "    params += n_embd * 3 * n_embd + 3 * n_embd # bias\n",
    "    # proj weight: n_embd * n_embd + bias\n",
    "    params += n_embd * n_embd + n_embd\n",
    "    # mlp weight1: n_embd * 4n_embd + bias\n",
    "    params += n_embd * 4 * n_embd + 4*n_embd\n",
    "    # mlp weight2: 4n_embd * n_embd + bias\n",
    "    params += 4*n_embd * n_embd + n_embd\n",
    "    # LayerNorm gamma,beta for 2 norms\n",
    "    params += 2*n_embd*2 # weight + bias each\n",
    "# final LN\n",
    "params += 2*n_embd\n",
    "# head weight tied to token embedding, not extra\n",
    "print(params/1e6)"
   ]
  },
  {
   "cell_type": "markdown",
   "metadata": {},
   "source": [
    "16 million paramters"
   ]
  }
 ],
 "metadata": {
  "kernelspec": {
   "display_name": "venv",
   "language": "python",
   "name": "python3"
  },
  "language_info": {
   "codemirror_mode": {
    "name": "ipython",
    "version": 3
   },
   "file_extension": ".py",
   "mimetype": "text/x-python",
   "name": "python",
   "nbconvert_exporter": "python",
   "pygments_lexer": "ipython3",
   "version": "3.13.3"
  }
 },
 "nbformat": 4,
 "nbformat_minor": 2
}
